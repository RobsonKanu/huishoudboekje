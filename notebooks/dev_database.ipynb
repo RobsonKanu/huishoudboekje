{
 "cells": [
  {
   "cell_type": "code",
   "execution_count": 1,
   "id": "43c86544-f610-40b2-b92d-0a75374093c8",
   "metadata": {},
   "outputs": [],
   "source": [
    "import sqlite3"
   ]
  },
  {
   "cell_type": "code",
   "execution_count": 2,
   "id": "81892425-8963-4b57-8056-740a7c02aede",
   "metadata": {},
   "outputs": [],
   "source": [
    "path_db = r\"C:\\Users\\robsc\\Documents\\Analyse\\Huishoudboekje\\data\\huishoudboekje.db\""
   ]
  },
  {
   "cell_type": "code",
   "execution_count": 10,
   "id": "3cd8caff-6dc7-42b1-9ed0-145b914e3548",
   "metadata": {},
   "outputs": [],
   "source": [
    "con = sqlite3.connect(path_db)"
   ]
  },
  {
   "cell_type": "code",
   "execution_count": 6,
   "id": "de93eebf-cdd3-4626-8f44-35d705acb22c",
   "metadata": {},
   "outputs": [],
   "source": [
    "sql_statements = [\n",
    "        \"\"\"CREATE TABLE IF NOT EXISTS categories (\n",
    "                id text PRIMARY KEY, \n",
    "                grouplevel text NOT NULL, \n",
    "                category text NOT NULL,\n",
    "                begin_year INT, \n",
    "                end_year INT\n",
    "            );\"\"\",\n",
    "        \"\"\"CREATE TABLE IF NOT EXISTS budget (\n",
    "                id text PRIMARY KEY,\n",
    "                grouplevel text NOT NULL,\n",
    "                category text NOT NULL,\n",
    "                year_month text NOT NULL,\n",
    "                amount real NOT NULL,\n",
    "                source_file text NOT NULL\n",
    "        )\"\"\"\n",
    "    ]"
   ]
  },
  {
   "cell_type": "code",
   "execution_count": 11,
   "id": "41ffdd7d-5372-4ac0-96e2-4c71d28e4323",
   "metadata": {},
   "outputs": [],
   "source": [
    "cur = con.cursor()"
   ]
  },
  {
   "cell_type": "code",
   "execution_count": 8,
   "id": "fa664467-b62e-4ee7-8a62-a4b87388e19d",
   "metadata": {},
   "outputs": [],
   "source": [
    "for stm in sql_statements:\n",
    "    cur.execute(stm)"
   ]
  },
  {
   "cell_type": "code",
   "execution_count": 9,
   "id": "c7a7aca2-788d-4648-8b5c-93ee37b5b8cb",
   "metadata": {},
   "outputs": [],
   "source": [
    "con.commit()\n",
    "con.close()"
   ]
  },
  {
   "cell_type": "code",
   "execution_count": 12,
   "id": "8d3f3a09-73c9-44a0-8fba-c93dd387d8c5",
   "metadata": {},
   "outputs": [
    {
     "data": {
      "text/plain": [
       "<sqlite3.Cursor at 0x18eba0b3ac0>"
      ]
     },
     "execution_count": 12,
     "metadata": {},
     "output_type": "execute_result"
    }
   ],
   "source": [
    "cur.execute(\"\"\"SELECT * FROM categories\"\"\")"
   ]
  },
  {
   "cell_type": "code",
   "execution_count": 13,
   "id": "a20e1431-bd3b-44cc-9cac-e9e266d0f39e",
   "metadata": {},
   "outputs": [],
   "source": [
    "cur.fetchone()"
   ]
  }
 ],
 "metadata": {
  "kernelspec": {
   "display_name": "Python 3 (ipykernel)",
   "language": "python",
   "name": "python3"
  },
  "language_info": {
   "codemirror_mode": {
    "name": "ipython",
    "version": 3
   },
   "file_extension": ".py",
   "mimetype": "text/x-python",
   "name": "python",
   "nbconvert_exporter": "python",
   "pygments_lexer": "ipython3",
   "version": "3.12.4"
  }
 },
 "nbformat": 4,
 "nbformat_minor": 5
}
