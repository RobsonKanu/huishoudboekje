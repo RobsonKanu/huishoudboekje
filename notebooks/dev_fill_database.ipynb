{
 "cells": [
  {
   "cell_type": "code",
   "execution_count": 1,
   "id": "6c56ef69-ffb4-4635-b295-9fc405468a31",
   "metadata": {},
   "outputs": [],
   "source": [
    "from project_huishoudboekje.database import read_sql_table_budget, connect_to_database\n",
    "\n",
    "from project_huishoudboekje.config import GeneralSettings\n",
    "\n",
    "import pandas as pd"
   ]
  },
  {
   "cell_type": "code",
   "execution_count": 2,
   "id": "0c98e736-d84f-4fe4-b5c9-28a47a8dd28d",
   "metadata": {},
   "outputs": [
    {
     "name": "stdout",
     "output_type": "stream",
     "text": [
      "Tables created successfully.\n"
     ]
    }
   ],
   "source": [
    "df = read_sql_table_budget()"
   ]
  },
  {
   "cell_type": "code",
   "execution_count": 3,
   "id": "953fa9a3-17e8-43f6-b643-d072fa2a9aec",
   "metadata": {},
   "outputs": [
    {
     "data": {
      "text/html": [
       "<div>\n",
       "<style scoped>\n",
       "    .dataframe tbody tr th:only-of-type {\n",
       "        vertical-align: middle;\n",
       "    }\n",
       "\n",
       "    .dataframe tbody tr th {\n",
       "        vertical-align: top;\n",
       "    }\n",
       "\n",
       "    .dataframe thead th {\n",
       "        text-align: right;\n",
       "    }\n",
       "</style>\n",
       "<table border=\"1\" class=\"dataframe\">\n",
       "  <thead>\n",
       "    <tr style=\"text-align: right;\">\n",
       "      <th></th>\n",
       "      <th>GROUP</th>\n",
       "      <th>CATEGORY</th>\n",
       "      <th>YEAR_MONTH</th>\n",
       "      <th>BUDGET</th>\n",
       "    </tr>\n",
       "  </thead>\n",
       "  <tbody>\n",
       "  </tbody>\n",
       "</table>\n",
       "</div>"
      ],
      "text/plain": [
       "Empty DataFrame\n",
       "Columns: [GROUP, CATEGORY, YEAR_MONTH, BUDGET]\n",
       "Index: []"
      ]
     },
     "execution_count": 3,
     "metadata": {},
     "output_type": "execute_result"
    }
   ],
   "source": [
    "df.head()"
   ]
  },
  {
   "cell_type": "code",
   "execution_count": 4,
   "id": "1d0bcfd4-e3ab-4045-8602-69fd80b6e155",
   "metadata": {},
   "outputs": [
    {
     "name": "stdout",
     "output_type": "stream",
     "text": [
      "Tables created successfully.\n"
     ]
    }
   ],
   "source": [
    "cursor, conn = connect_to_database()"
   ]
  },
  {
   "cell_type": "code",
   "execution_count": 37,
   "id": "fafdeb94-1b0f-4461-a4ea-408edd2ab61e",
   "metadata": {},
   "outputs": [],
   "source": [
    "df_2022 = pd.read_excel(GeneralSettings.project_path / 'data/budget2024.xlsx')"
   ]
  },
  {
   "cell_type": "code",
   "execution_count": 38,
   "id": "43d5cab9-4f89-4dfa-ba25-955debc53d60",
   "metadata": {},
   "outputs": [],
   "source": [
    "df_2022['source_file'] = str(GeneralSettings.project_path / 'data/budget2024.xlsx')\n",
    "df_2022['id'] = df_2022['GROUP'] + '_' + df_2022['CATEGORY'] + '_' + df_2022['YEAR_MONTH']"
   ]
  },
  {
   "cell_type": "code",
   "execution_count": 39,
   "id": "4da8869a-2494-4ff9-81d4-7729cd391518",
   "metadata": {},
   "outputs": [
    {
     "data": {
      "text/plain": [
       "636"
      ]
     },
     "execution_count": 39,
     "metadata": {},
     "output_type": "execute_result"
    }
   ],
   "source": [
    "df_2022.rename(columns={'GROUP': 'grouplevel', 'CATEGORY': 'category', 'YEAR_MONTH': 'year_month', 'BUDGET': 'amount'})[\n",
    "['id', 'grouplevel', 'category', 'year_month', 'amount', 'source_file']].to_sql('budget', con=conn, if_exists='append', index=False)"
   ]
  },
  {
   "cell_type": "code",
   "execution_count": 24,
   "id": "160795c6-4c17-4e62-9ce8-cd7055e8612f",
   "metadata": {},
   "outputs": [
    {
     "name": "stdout",
     "output_type": "stream",
     "text": [
      "Tables created successfully.\n"
     ]
    }
   ],
   "source": [
    "df = read_sql_table_budget()"
   ]
  },
  {
   "cell_type": "code",
   "execution_count": 25,
   "id": "0b5fe2dc-9947-4845-9a78-6f1ec8a95214",
   "metadata": {},
   "outputs": [
    {
     "data": {
      "text/html": [
       "<div>\n",
       "<style scoped>\n",
       "    .dataframe tbody tr th:only-of-type {\n",
       "        vertical-align: middle;\n",
       "    }\n",
       "\n",
       "    .dataframe tbody tr th {\n",
       "        vertical-align: top;\n",
       "    }\n",
       "\n",
       "    .dataframe thead th {\n",
       "        text-align: right;\n",
       "    }\n",
       "</style>\n",
       "<table border=\"1\" class=\"dataframe\">\n",
       "  <thead>\n",
       "    <tr style=\"text-align: right;\">\n",
       "      <th></th>\n",
       "      <th>GROUP</th>\n",
       "      <th>CATEGORY</th>\n",
       "      <th>YEAR_MONTH</th>\n",
       "      <th>BUDGET</th>\n",
       "    </tr>\n",
       "  </thead>\n",
       "  <tbody>\n",
       "    <tr>\n",
       "      <th>727</th>\n",
       "      <td>Leven en entertainment</td>\n",
       "      <td>Bibliotheek</td>\n",
       "      <td>2023-12</td>\n",
       "      <td>0.00</td>\n",
       "    </tr>\n",
       "    <tr>\n",
       "      <th>728</th>\n",
       "      <td>Leven en entertainment</td>\n",
       "      <td>Internet en TV</td>\n",
       "      <td>2023-12</td>\n",
       "      <td>56.16</td>\n",
       "    </tr>\n",
       "    <tr>\n",
       "      <th>729</th>\n",
       "      <td>Overig</td>\n",
       "      <td>Beleggingen</td>\n",
       "      <td>2023-12</td>\n",
       "      <td>0.00</td>\n",
       "    </tr>\n",
       "    <tr>\n",
       "      <th>730</th>\n",
       "      <td>Overig</td>\n",
       "      <td>Betaalpakket</td>\n",
       "      <td>2023-12</td>\n",
       "      <td>9.00</td>\n",
       "    </tr>\n",
       "    <tr>\n",
       "      <th>731</th>\n",
       "      <td>Overig</td>\n",
       "      <td>Overige uitgaven</td>\n",
       "      <td>2023-12</td>\n",
       "      <td>50.00</td>\n",
       "    </tr>\n",
       "  </tbody>\n",
       "</table>\n",
       "</div>"
      ],
      "text/plain": [
       "                      GROUP          CATEGORY YEAR_MONTH  BUDGET\n",
       "727  Leven en entertainment       Bibliotheek    2023-12    0.00\n",
       "728  Leven en entertainment    Internet en TV    2023-12   56.16\n",
       "729                  Overig       Beleggingen    2023-12    0.00\n",
       "730                  Overig      Betaalpakket    2023-12    9.00\n",
       "731                  Overig  Overige uitgaven    2023-12   50.00"
      ]
     },
     "execution_count": 25,
     "metadata": {},
     "output_type": "execute_result"
    }
   ],
   "source": [
    "df.tail()"
   ]
  }
 ],
 "metadata": {
  "kernelspec": {
   "display_name": "Python (huishoudboekje)",
   "language": "python",
   "name": "huishoudboekje"
  },
  "language_info": {
   "codemirror_mode": {
    "name": "ipython",
    "version": 3
   },
   "file_extension": ".py",
   "mimetype": "text/x-python",
   "name": "python",
   "nbconvert_exporter": "python",
   "pygments_lexer": "ipython3",
   "version": "3.12.4"
  }
 },
 "nbformat": 4,
 "nbformat_minor": 5
}
