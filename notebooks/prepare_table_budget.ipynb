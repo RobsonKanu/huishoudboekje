{
 "cells": [
  {
   "cell_type": "code",
   "execution_count": 17,
   "id": "8ca5cee3",
   "metadata": {},
   "outputs": [],
   "source": [
    "import pandas as pd\n",
    "\n",
    "from datetime import date\n",
    "\n",
    "from project_huishoudboekje.config import GeneralSettings"
   ]
  },
  {
   "cell_type": "code",
   "execution_count": 2,
   "id": "a5273382",
   "metadata": {},
   "outputs": [],
   "source": [
    "df = pd.read_excel(GeneralSettings.project_path / 'data/processed/transactions.xlsx').sort_values(by='DATE', ascending=False)"
   ]
  },
  {
   "cell_type": "code",
   "execution_count": 3,
   "id": "83a88a8e",
   "metadata": {},
   "outputs": [],
   "source": [
    "def prepare_data(df):\n",
    "\n",
    "    df_analysis = df.loc[df.ANALYSE_IND == 1]\n",
    "\n",
    "    df_analysis['YEAR_MONTH'] = pd.DatetimeIndex(df_analysis.DATE).strftime(\"%Y-%m\")\n",
    "\n",
    "    df_analysis['AMOUNT_NW'] = df_analysis.apply(\n",
    "        lambda x: -x['AMOUNT'] if ((x['FINANCIAL_TYPE'] == 'credit') & (x['GROUP'] != 'Inkomsten')) | (\n",
    "                (x['FINANCIAL_TYPE'] == 'debet') & (x['GROUP'] == 'Inkomsten')) else x['AMOUNT'], axis=1)\n",
    "\n",
    "    df_analysis['INCOME_IND'] = df['GROUP'].apply(lambda x: x if x == 'Inkomsten' else 'Uitgaven')\n",
    "\n",
    "    return df_analysis"
   ]
  },
  {
   "cell_type": "code",
   "execution_count": 4,
   "id": "f7692737",
   "metadata": {},
   "outputs": [
    {
     "name": "stderr",
     "output_type": "stream",
     "text": [
      "C:\\Users\\robsc\\AppData\\Local\\Temp\\ipykernel_5828\\2280867606.py:5: SettingWithCopyWarning: \n",
      "A value is trying to be set on a copy of a slice from a DataFrame.\n",
      "Try using .loc[row_indexer,col_indexer] = value instead\n",
      "\n",
      "See the caveats in the documentation: https://pandas.pydata.org/pandas-docs/stable/user_guide/indexing.html#returning-a-view-versus-a-copy\n",
      "  df_analysis['YEAR_MONTH'] = pd.DatetimeIndex(df_analysis.DATE).strftime(\"%Y-%m\")\n",
      "C:\\Users\\robsc\\AppData\\Local\\Temp\\ipykernel_5828\\2280867606.py:7: SettingWithCopyWarning: \n",
      "A value is trying to be set on a copy of a slice from a DataFrame.\n",
      "Try using .loc[row_indexer,col_indexer] = value instead\n",
      "\n",
      "See the caveats in the documentation: https://pandas.pydata.org/pandas-docs/stable/user_guide/indexing.html#returning-a-view-versus-a-copy\n",
      "  df_analysis['AMOUNT_NW'] = df_analysis.apply(\n",
      "C:\\Users\\robsc\\AppData\\Local\\Temp\\ipykernel_5828\\2280867606.py:11: SettingWithCopyWarning: \n",
      "A value is trying to be set on a copy of a slice from a DataFrame.\n",
      "Try using .loc[row_indexer,col_indexer] = value instead\n",
      "\n",
      "See the caveats in the documentation: https://pandas.pydata.org/pandas-docs/stable/user_guide/indexing.html#returning-a-view-versus-a-copy\n",
      "  df_analysis['INCOME_IND'] = df['GROUP'].apply(lambda x: x if x == 'Inkomsten' else 'Uitgaven')\n"
     ]
    }
   ],
   "source": [
    "df_analysis = prepare_data(df)"
   ]
  },
  {
   "cell_type": "code",
   "execution_count": 5,
   "id": "82c873f3",
   "metadata": {},
   "outputs": [],
   "source": [
    "df_sel = df_analysis.groupby('CATEGORY')['AMOUNT'].sum()"
   ]
  },
  {
   "cell_type": "code",
   "execution_count": 6,
   "id": "ef9d0566",
   "metadata": {},
   "outputs": [
    {
     "data": {
      "text/plain": [
       "CATEGORY\n",
       "Aansprakelijkheidsverzekering       11.19\n",
       "Amazon Prime                        17.43\n",
       "Apple iCloud                         6.93\n",
       "Autoverzekering                     54.74\n",
       "Badkamer                         19255.81\n",
       "                                   ...   \n",
       "Water                               38.91\n",
       "Waterschapsbelasting               175.55\n",
       "Wegenbelasting                     236.00\n",
       "ZOA                                 30.00\n",
       "Zorgverzekering                   1299.79\n",
       "Name: AMOUNT, Length: 62, dtype: float64"
      ]
     },
     "execution_count": 6,
     "metadata": {},
     "output_type": "execute_result"
    }
   ],
   "source": [
    "df_sel"
   ]
  },
  {
   "cell_type": "code",
   "execution_count": 7,
   "id": "a1340b9e",
   "metadata": {},
   "outputs": [],
   "source": [
    "df_budget = pd.read_excel(GeneralSettings.project_path / 'data/budget.xlsx')"
   ]
  },
  {
   "cell_type": "code",
   "execution_count": 8,
   "id": "9b5f0366",
   "metadata": {},
   "outputs": [],
   "source": [
    "df_budget_tot = df_budget.groupby('CATEGORY')['BUDGET'].sum()"
   ]
  },
  {
   "cell_type": "code",
   "execution_count": 13,
   "id": "327a682f",
   "metadata": {},
   "outputs": [],
   "source": [
    "df_tot = pd.concat([df_budget_tot, df_sel], axis=1)"
   ]
  },
  {
   "cell_type": "code",
   "execution_count": 15,
   "id": "5577321f",
   "metadata": {},
   "outputs": [],
   "source": [
    "df_tot['DELTA'] = df_tot['BUDGET'] - df_tot['AMOUNT']\n",
    "df_tot['RATIO'] = df_tot['AMOUNT'] / df_tot['BUDGET']"
   ]
  },
  {
   "cell_type": "code",
   "execution_count": 16,
   "id": "565d7f37",
   "metadata": {},
   "outputs": [
    {
     "data": {
      "text/html": [
       "<div>\n",
       "<style scoped>\n",
       "    .dataframe tbody tr th:only-of-type {\n",
       "        vertical-align: middle;\n",
       "    }\n",
       "\n",
       "    .dataframe tbody tr th {\n",
       "        vertical-align: top;\n",
       "    }\n",
       "\n",
       "    .dataframe thead th {\n",
       "        text-align: right;\n",
       "    }\n",
       "</style>\n",
       "<table border=\"1\" class=\"dataframe\">\n",
       "  <thead>\n",
       "    <tr style=\"text-align: right;\">\n",
       "      <th></th>\n",
       "      <th>BUDGET</th>\n",
       "      <th>AMOUNT</th>\n",
       "      <th>DELTA</th>\n",
       "      <th>RATIO</th>\n",
       "    </tr>\n",
       "    <tr>\n",
       "      <th>CATEGORY</th>\n",
       "      <th></th>\n",
       "      <th></th>\n",
       "      <th></th>\n",
       "      <th></th>\n",
       "    </tr>\n",
       "  </thead>\n",
       "  <tbody>\n",
       "    <tr>\n",
       "      <th>Aansprakelijkheidsverzekering</th>\n",
       "      <td>4682</td>\n",
       "      <td>11.19</td>\n",
       "      <td>4670.81</td>\n",
       "      <td>0.002390</td>\n",
       "    </tr>\n",
       "    <tr>\n",
       "      <th>Amazon Prime</th>\n",
       "      <td>5800</td>\n",
       "      <td>17.43</td>\n",
       "      <td>5782.57</td>\n",
       "      <td>0.003005</td>\n",
       "    </tr>\n",
       "    <tr>\n",
       "      <th>Apple iCloud</th>\n",
       "      <td>5509</td>\n",
       "      <td>6.93</td>\n",
       "      <td>5502.07</td>\n",
       "      <td>0.001258</td>\n",
       "    </tr>\n",
       "    <tr>\n",
       "      <th>Autoverzekering</th>\n",
       "      <td>4913</td>\n",
       "      <td>54.74</td>\n",
       "      <td>4858.26</td>\n",
       "      <td>0.011142</td>\n",
       "    </tr>\n",
       "    <tr>\n",
       "      <th>Badkamer</th>\n",
       "      <td>5194</td>\n",
       "      <td>19255.81</td>\n",
       "      <td>-14061.81</td>\n",
       "      <td>3.707318</td>\n",
       "    </tr>\n",
       "    <tr>\n",
       "      <th>...</th>\n",
       "      <td>...</td>\n",
       "      <td>...</td>\n",
       "      <td>...</td>\n",
       "      <td>...</td>\n",
       "    </tr>\n",
       "    <tr>\n",
       "      <th>Water</th>\n",
       "      <td>6905</td>\n",
       "      <td>38.91</td>\n",
       "      <td>6866.09</td>\n",
       "      <td>0.005635</td>\n",
       "    </tr>\n",
       "    <tr>\n",
       "      <th>Waterschapsbelasting</th>\n",
       "      <td>6412</td>\n",
       "      <td>175.55</td>\n",
       "      <td>6236.45</td>\n",
       "      <td>0.027378</td>\n",
       "    </tr>\n",
       "    <tr>\n",
       "      <th>Wegenbelasting</th>\n",
       "      <td>6014</td>\n",
       "      <td>236.00</td>\n",
       "      <td>5778.00</td>\n",
       "      <td>0.039242</td>\n",
       "    </tr>\n",
       "    <tr>\n",
       "      <th>ZOA</th>\n",
       "      <td>4862</td>\n",
       "      <td>30.00</td>\n",
       "      <td>4832.00</td>\n",
       "      <td>0.006170</td>\n",
       "    </tr>\n",
       "    <tr>\n",
       "      <th>Zorgverzekering</th>\n",
       "      <td>7716</td>\n",
       "      <td>1299.79</td>\n",
       "      <td>6416.21</td>\n",
       "      <td>0.168454</td>\n",
       "    </tr>\n",
       "  </tbody>\n",
       "</table>\n",
       "<p>66 rows × 4 columns</p>\n",
       "</div>"
      ],
      "text/plain": [
       "                               BUDGET    AMOUNT     DELTA     RATIO\n",
       "CATEGORY                                                           \n",
       "Aansprakelijkheidsverzekering    4682     11.19   4670.81  0.002390\n",
       "Amazon Prime                     5800     17.43   5782.57  0.003005\n",
       "Apple iCloud                     5509      6.93   5502.07  0.001258\n",
       "Autoverzekering                  4913     54.74   4858.26  0.011142\n",
       "Badkamer                         5194  19255.81 -14061.81  3.707318\n",
       "...                               ...       ...       ...       ...\n",
       "Water                            6905     38.91   6866.09  0.005635\n",
       "Waterschapsbelasting             6412    175.55   6236.45  0.027378\n",
       "Wegenbelasting                   6014    236.00   5778.00  0.039242\n",
       "ZOA                              4862     30.00   4832.00  0.006170\n",
       "Zorgverzekering                  7716   1299.79   6416.21  0.168454\n",
       "\n",
       "[66 rows x 4 columns]"
      ]
     },
     "execution_count": 16,
     "metadata": {},
     "output_type": "execute_result"
    }
   ],
   "source": [
    "df_tot"
   ]
  },
  {
   "cell_type": "code",
   "execution_count": 21,
   "id": "284543f7",
   "metadata": {},
   "outputs": [
    {
     "data": {
      "text/plain": [
       "datetime.date(2022, 8, 1)"
      ]
     },
     "execution_count": 21,
     "metadata": {},
     "output_type": "execute_result"
    }
   ],
   "source": [
    "date.today().replace(day=1)"
   ]
  },
  {
   "cell_type": "code",
   "execution_count": 24,
   "id": "d0886489",
   "metadata": {},
   "outputs": [],
   "source": [
    "df_sel = df_analysis[df_analysis['DATE'] < date.today().replace(day=1).strftime('%Y-%m-%d')]"
   ]
  },
  {
   "cell_type": "code",
   "execution_count": 25,
   "id": "807b55a9",
   "metadata": {},
   "outputs": [],
   "source": [
    "df_budget['DATE'] = pd.to_datetime(df_budget['YEAR_MONTH'], format='%Y-%m')"
   ]
  },
  {
   "cell_type": "code",
   "execution_count": 27,
   "id": "e9ab518c",
   "metadata": {},
   "outputs": [],
   "source": [
    "df_budget_sel = df_budget[df_budget['DATE'] < date.today().replace(day=1).strftime('%Y-%m-%d')]"
   ]
  },
  {
   "cell_type": "code",
   "execution_count": 36,
   "id": "f71b63d0",
   "metadata": {},
   "outputs": [],
   "source": [
    "def create_table_output(df_analysis, df_budget, view_value):\n",
    "    \n",
    "    if view_value == 'YMD':\n",
    "        \n",
    "        ref_date = date.today().replace(day=1)\n",
    "        \n",
    "        df_analysis = df_analysis[df_analysis['DATE'] < ref_date.strftime('%Y-%m-%d')]\n",
    "        df_budget = df_budget[df_budget['DATE'] < ref_date.strftime('%Y-%m-%d')]\n",
    "        \n",
    "    df_analysis_tot = df_analysis.groupby('CATEGORY')['AMOUNT'].sum()\n",
    "    df_budget_tot = df_budget.groupby('CATEGORY')['BUDGET'].sum()\n",
    "        \n",
    "    df_tot = pd.concat([df_budget_tot, df_analysis_tot], axis=1).fillna(0)\n",
    "    \n",
    "    df_tot['DELTA'] = df_tot['BUDGET'] - df_tot['AMOUNT']\n",
    "    df_tot['RATIO'] = df_tot['AMOUNT'] / df_tot['BUDGET']\n",
    "    \n",
    "    return df_tot.reset_index().sort_values(by='AMOUNT', ascending=False)"
   ]
  },
  {
   "cell_type": "code",
   "execution_count": 37,
   "id": "37b09d1e",
   "metadata": {},
   "outputs": [],
   "source": [
    "df_final = create_table_output(df_analysis, df_budget, 'Total')"
   ]
  },
  {
   "cell_type": "code",
   "execution_count": 38,
   "id": "113d1263",
   "metadata": {},
   "outputs": [
    {
     "data": {
      "text/html": [
       "<div>\n",
       "<style scoped>\n",
       "    .dataframe tbody tr th:only-of-type {\n",
       "        vertical-align: middle;\n",
       "    }\n",
       "\n",
       "    .dataframe tbody tr th {\n",
       "        vertical-align: top;\n",
       "    }\n",
       "\n",
       "    .dataframe thead th {\n",
       "        text-align: right;\n",
       "    }\n",
       "</style>\n",
       "<table border=\"1\" class=\"dataframe\">\n",
       "  <thead>\n",
       "    <tr style=\"text-align: right;\">\n",
       "      <th></th>\n",
       "      <th>CATEGORY</th>\n",
       "      <th>BUDGET</th>\n",
       "      <th>AMOUNT</th>\n",
       "      <th>DELTA</th>\n",
       "      <th>RATIO</th>\n",
       "    </tr>\n",
       "  </thead>\n",
       "  <tbody>\n",
       "    <tr>\n",
       "      <th>48</th>\n",
       "      <td>Salaris Rob</td>\n",
       "      <td>4954</td>\n",
       "      <td>27541.30</td>\n",
       "      <td>-22587.30</td>\n",
       "      <td>5.559407</td>\n",
       "    </tr>\n",
       "    <tr>\n",
       "      <th>4</th>\n",
       "      <td>Badkamer</td>\n",
       "      <td>5194</td>\n",
       "      <td>19255.81</td>\n",
       "      <td>-14061.81</td>\n",
       "      <td>3.707318</td>\n",
       "    </tr>\n",
       "    <tr>\n",
       "      <th>26</th>\n",
       "      <td>Hypotheek</td>\n",
       "      <td>6283</td>\n",
       "      <td>8827.21</td>\n",
       "      <td>-2544.21</td>\n",
       "      <td>1.404936</td>\n",
       "    </tr>\n",
       "    <tr>\n",
       "      <th>12</th>\n",
       "      <td>Bruiloft</td>\n",
       "      <td>5498</td>\n",
       "      <td>8460.65</td>\n",
       "      <td>-2962.65</td>\n",
       "      <td>1.538860</td>\n",
       "    </tr>\n",
       "    <tr>\n",
       "      <th>41</th>\n",
       "      <td>Overige inkomsten</td>\n",
       "      <td>5121</td>\n",
       "      <td>6531.00</td>\n",
       "      <td>-1410.00</td>\n",
       "      <td>1.275337</td>\n",
       "    </tr>\n",
       "    <tr>\n",
       "      <th>...</th>\n",
       "      <td>...</td>\n",
       "      <td>...</td>\n",
       "      <td>...</td>\n",
       "      <td>...</td>\n",
       "      <td>...</td>\n",
       "    </tr>\n",
       "    <tr>\n",
       "      <th>2</th>\n",
       "      <td>Apple iCloud</td>\n",
       "      <td>5509</td>\n",
       "      <td>6.93</td>\n",
       "      <td>5502.07</td>\n",
       "      <td>0.001258</td>\n",
       "    </tr>\n",
       "    <tr>\n",
       "      <th>32</th>\n",
       "      <td>Massage</td>\n",
       "      <td>7069</td>\n",
       "      <td>0.00</td>\n",
       "      <td>7069.00</td>\n",
       "      <td>0.000000</td>\n",
       "    </tr>\n",
       "    <tr>\n",
       "      <th>21</th>\n",
       "      <td>Fysiotherapie</td>\n",
       "      <td>7280</td>\n",
       "      <td>0.00</td>\n",
       "      <td>7280.00</td>\n",
       "      <td>0.000000</td>\n",
       "    </tr>\n",
       "    <tr>\n",
       "      <th>16</th>\n",
       "      <td>Drieluik</td>\n",
       "      <td>5481</td>\n",
       "      <td>0.00</td>\n",
       "      <td>5481.00</td>\n",
       "      <td>0.000000</td>\n",
       "    </tr>\n",
       "    <tr>\n",
       "      <th>49</th>\n",
       "      <td>Schoenen</td>\n",
       "      <td>6478</td>\n",
       "      <td>0.00</td>\n",
       "      <td>6478.00</td>\n",
       "      <td>0.000000</td>\n",
       "    </tr>\n",
       "  </tbody>\n",
       "</table>\n",
       "<p>66 rows × 5 columns</p>\n",
       "</div>"
      ],
      "text/plain": [
       "             CATEGORY  BUDGET    AMOUNT     DELTA     RATIO\n",
       "48        Salaris Rob    4954  27541.30 -22587.30  5.559407\n",
       "4            Badkamer    5194  19255.81 -14061.81  3.707318\n",
       "26          Hypotheek    6283   8827.21  -2544.21  1.404936\n",
       "12           Bruiloft    5498   8460.65  -2962.65  1.538860\n",
       "41  Overige inkomsten    5121   6531.00  -1410.00  1.275337\n",
       "..                ...     ...       ...       ...       ...\n",
       "2        Apple iCloud    5509      6.93   5502.07  0.001258\n",
       "32            Massage    7069      0.00   7069.00  0.000000\n",
       "21      Fysiotherapie    7280      0.00   7280.00  0.000000\n",
       "16           Drieluik    5481      0.00   5481.00  0.000000\n",
       "49           Schoenen    6478      0.00   6478.00  0.000000\n",
       "\n",
       "[66 rows x 5 columns]"
      ]
     },
     "execution_count": 38,
     "metadata": {},
     "output_type": "execute_result"
    }
   ],
   "source": [
    "df_final"
   ]
  }
 ],
 "metadata": {
  "kernelspec": {
   "display_name": "Python (huishoudboekje)",
   "language": "python",
   "name": "huishoudboekje"
  },
  "language_info": {
   "codemirror_mode": {
    "name": "ipython",
    "version": 3
   },
   "file_extension": ".py",
   "mimetype": "text/x-python",
   "name": "python",
   "nbconvert_exporter": "python",
   "pygments_lexer": "ipython3",
   "version": "3.8.8"
  }
 },
 "nbformat": 4,
 "nbformat_minor": 5
}
