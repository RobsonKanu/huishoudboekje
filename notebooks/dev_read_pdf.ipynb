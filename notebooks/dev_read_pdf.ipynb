{
 "cells": [
  {
   "cell_type": "code",
   "execution_count": 177,
   "id": "d19c7b2d",
   "metadata": {},
   "outputs": [],
   "source": [
    "import re\n",
    "import pandas as pd\n",
    "\n",
    "from PyPDF2 import PdfReader\n",
    "from datetime import datetime"
   ]
  },
  {
   "cell_type": "code",
   "execution_count": 2,
   "id": "a2317fcf",
   "metadata": {},
   "outputs": [],
   "source": [
    "project_path = r'C:\\Users\\robsc\\Documents\\Python\\Huishoudboekje'\n",
    "filename = 'data/Rabobank/NL45RABO0372430163-EUR-2022-04.pdf'"
   ]
  },
  {
   "cell_type": "code",
   "execution_count": 3,
   "id": "be5778e2",
   "metadata": {},
   "outputs": [],
   "source": [
    "reader = PdfReader(project_path + '/' + filename)\n",
    "number_of_pages = len(reader.pages)\n",
    "page = reader.pages[0]\n",
    "text = page.extract_text()"
   ]
  },
  {
   "cell_type": "code",
   "execution_count": 4,
   "id": "948b3ec4",
   "metadata": {},
   "outputs": [],
   "source": [
    "def get_header(text):\n",
    "    \n",
    "    string_name = 'Bedrag bij (credit)\\n'\n",
    "    \n",
    "    header_num = text.find(string_name)\n",
    "    \n",
    "    return text[:(header_num + len(string_name))]"
   ]
  },
  {
   "cell_type": "code",
   "execution_count": 5,
   "id": "563011c2",
   "metadata": {},
   "outputs": [],
   "source": [
    "header = get_header(text)"
   ]
  },
  {
   "cell_type": "code",
   "execution_count": 6,
   "id": "a4dd2893",
   "metadata": {},
   "outputs": [],
   "source": [
    "def string_to_value(string):\n",
    "    \n",
    "    return float(string.split(' ')[0].replace('.', '').replace(',', '.'))"
   ]
  },
  {
   "cell_type": "code",
   "execution_count": 7,
   "id": "406deddc",
   "metadata": {},
   "outputs": [],
   "source": [
    "def get_account_values(text):\n",
    "    \"\"\"Only for page 1\"\"\"\n",
    "    \n",
    "    account_values = ['Beginsaldo', 'Eindsaldo', 'Totaal afgeschreven', 'Totaal bijgeschreven']\n",
    "    dict_account = {}\n",
    "    \n",
    "    for num, val in enumerate(text):\n",
    "\n",
    "        if val in account_values:\n",
    "            dict_account[val] = string_to_value(text[num+1])\n",
    "            \n",
    "    return dict_account"
   ]
  },
  {
   "cell_type": "code",
   "execution_count": 8,
   "id": "56fd01c6",
   "metadata": {},
   "outputs": [],
   "source": [
    "dict_account = get_account_values(header.split('\\n'))"
   ]
  },
  {
   "cell_type": "code",
   "execution_count": 9,
   "id": "b9902517",
   "metadata": {},
   "outputs": [],
   "source": [
    "def get_body(text, header):\n",
    "    \n",
    "    return text.replace('\\nCR = tegoed\\nD   = tekort\\n', '').replace(header, '')"
   ]
  },
  {
   "cell_type": "code",
   "execution_count": 195,
   "id": "f2b0bbc8",
   "metadata": {},
   "outputs": [],
   "source": [
    "body = get_body(text, header)"
   ]
  },
  {
   "cell_type": "code",
   "execution_count": 196,
   "id": "414e2ceb",
   "metadata": {},
   "outputs": [
    {
     "data": {
      "text/plain": [
       "'01-04\\nei\\nNL24 RABO 0168 4762 07\\n21,66\\nBasic Fit Nederland B.V.\\n01-04-2022 / 30-04-2022\\nKenmerk machtiging / incassant ID:\\n305012750\\nNL47ZZZ370924590000\\nTransactiereferentie:\\nNO305012750-130\\nVerwerkingsdatum: 01-04-2022\\n01-04\\nei\\nNL02 RABO 0387 5120 12\\n10,00\\nZOA\\nHartelijk dank voor uw bijdrage.\\nKenmerk machtiging / incassant ID:\\nZOA201706557823\\nNL39ZZZ410097230000\\nTransactiereferentie:\\n3022041000628634\\nVerwerkingsdatum: 01-04-2022\\n01-04\\nbc\\nTango Amersfoort 1 AMERSFOORT\\n84,40\\nBetaalautomaat 08:45 pasnr. 038\\nApple Pay\\nVerwerkingsdatum: 01-04-2022\\n01-04\\nbc\\nHoogvliet 700 5 AMERSFOORT\\n28,93\\nBetaalautomaat 09:07 pasnr. 038\\nApple Pay\\nVerwerkingsdatum: 01-04-2022\\n01-04\\nei\\nNL15 DEUT 0319 8719 75\\n17,27\\nNationale-Nederlanden Verzekeren\\nINCASSO ZEKERHEIDSPAKKET PARTICULIE\\nREN POLIS 154044168025 PERIODE 01-0\\n4-2022 TOT 01-05-2022 UW TP NATIONA\\nLE-NEDERLANDEN\\nKenmerk machtiging / incassant ID:\\n4379705V1\\nNL34ZZZ664133540000\\nTransactiereferentie:\\n5150501422722086\\nVerwerkingsdatum: 01-04-2022\\n01-04\\nei\\nNL96 ABNA 0450 0046 27\\n1.261,03\\nAEGON NEDERLAND NV\\nAEGON H1319916 - TEL 058-2446650 CO\\nNTRACTUELE RENTE EN AFLOSSING  TERM\\nIJN 01-03 TOT 01-04\\nKenmerk machtiging / incassant ID:\\nAEDE20210802H1319916\\nNL98ZZZ271112510000\\nTransactiereferentie:\\nE2E/H /H1319916  /22-03-2022/PROL /\\nVerwerkingsdatum: 01-04-2022\\n01-04\\nid\\nNL39 RABO 0301 2428 44\\n45,00\\nHans Anders Nederland BV via Ingeni\\nco'"
      ]
     },
     "execution_count": 196,
     "metadata": {},
     "output_type": "execute_result"
    }
   ],
   "source": [
    "body"
   ]
  },
  {
   "cell_type": "code",
   "execution_count": 12,
   "id": "2851724e",
   "metadata": {},
   "outputs": [],
   "source": [
    "def get_all_transactions(reader):\n",
    "    \n",
    "    num_of_pages = len(reader.pages)\n",
    "    \n",
    "    list_bodies = []\n",
    "    \n",
    "    for num, page in enumerate(reader.pages):\n",
    "        \n",
    "        text = page.extract_text()\n",
    "        \n",
    "        header = get_header(text)\n",
    "        \n",
    "        if num == 0:\n",
    "            dict_account = get_account_values(header.split('\\n'))\n",
    "            \n",
    "        body = get_body(text, header)\n",
    "        \n",
    "        list_bodies.append(body)\n",
    "        \n",
    "    all_trans = '\\n'.join(list_bodies)\n",
    "    \n",
    "    return all_trans[:all_trans.find('\\nac = acceptgiro')]"
   ]
  },
  {
   "cell_type": "code",
   "execution_count": 13,
   "id": "2f7c0fb9",
   "metadata": {},
   "outputs": [],
   "source": [
    "trans = get_all_transactions(reader)"
   ]
  },
  {
   "cell_type": "code",
   "execution_count": 42,
   "id": "dc2d1f43",
   "metadata": {},
   "outputs": [],
   "source": [
    "trans_new = ' '.join(trans.split('\\n'))"
   ]
  },
  {
   "cell_type": "code",
   "execution_count": 100,
   "id": "953c8947",
   "metadata": {},
   "outputs": [],
   "source": [
    "matches = re.findall('[0-9][0-9]-[0-9][0-9] [a-z][a-z].+?(?=Verwerkingsdatum: [0-9][0-9]-[0-9][0-9]-202[0-9])', trans_new)"
   ]
  },
  {
   "cell_type": "code",
   "execution_count": 191,
   "id": "8973bc1d",
   "metadata": {},
   "outputs": [],
   "source": [
    "def get_info_iban(match):\n",
    "    \n",
    "    if re.search('[A-Z][A-Z][0-9][0-9] [0-9][0-9][0-9][0-9] [0-9][0-9][0-9][0-9] [0-9][0-9][0-9][0-9] [0-9][0-9][0-9][0-9] [0-9][0-9] ', match):\n",
    "        print(match)\n",
    "        amount = match.split()[8]\n",
    "\n",
    "        incassant = ' '.join(match.split()[9:12])\n",
    "        \n",
    "    else:\n",
    "\n",
    "        amount = match.split()[7]\n",
    "        incassant = ' '.join(match.split()[8:11])\n",
    "    \n",
    "    return amount, incassant\n",
    "\n",
    "def get_info_bc(match):\n",
    "    \n",
    "    rgx = re.search('([^\\s]*?),[0-9][0-9]', match)\n",
    "\n",
    "    amount = rgx.group(0)\n",
    "\n",
    "    incassant = match[9:(rgx.span(0)[0]-1)]\n",
    "    \n",
    "    return amount, incassant\n"
   ]
  },
  {
   "cell_type": "code",
   "execution_count": 192,
   "id": "cb81dfa9",
   "metadata": {},
   "outputs": [
    {
     "name": "stdout",
     "output_type": "stream",
     "text": [
      "Transaction #0\n",
      "Transaction #1\n",
      "Transaction #2\n",
      "Transaction #3\n",
      "Transaction #4\n",
      "Transaction #5\n",
      "Transaction #6\n",
      "Transaction #7\n",
      "Transaction #8\n",
      "Transaction #9\n",
      "Transaction #10\n",
      "Transaction #11\n",
      "Transaction #12\n",
      "Transaction #13\n",
      "Transaction #14\n",
      "Transaction #15\n",
      "Transaction #16\n",
      "Transaction #17\n",
      "Transaction #18\n",
      "Transaction #19\n",
      "Transaction #20\n",
      "Transaction #21\n",
      "Transaction #22\n",
      "Transaction #23\n",
      "Transaction #24\n",
      "Transaction #25\n",
      "Transaction #26\n",
      "Transaction #27\n",
      "Transaction #28\n",
      "Transaction #29\n",
      "Transaction #30\n",
      "Transaction #31\n",
      "Transaction #32\n",
      "Transaction #33\n",
      "Transaction #34\n",
      "Transaction #35\n",
      "11-04 id DE54 2022 0800 0093 1032 90 5,00 Carshare Ventures BV 25NC2KJ 0140000421114125 0 - Verifi cation Snappcar x0163 pasnr.038 Transactiereferentie: 11-04-2022 09:27 0140000421114125 \n",
      "Transaction #36\n",
      "Transaction #37\n",
      "Transaction #38\n",
      "Transaction #39\n",
      "Transaction #40\n",
      "Transaction #41\n",
      "Transaction #42\n",
      "Transaction #43\n",
      "Transaction #44\n",
      "Transaction #45\n",
      "Transaction #46\n",
      "Transaction #47\n",
      "Transaction #48\n",
      "Transaction #49\n",
      "Transaction #50\n",
      "Transaction #51\n",
      "Transaction #52\n",
      "Transaction #53\n",
      "Transaction #54\n",
      "Transaction #55\n",
      "Transaction #56\n",
      "Transaction #57\n",
      "Transaction #58\n",
      "Transaction #59\n",
      "Transaction #60\n",
      "Transaction #61\n",
      "Transaction #62\n",
      "Transaction #63\n",
      "Transaction #64\n",
      "Transaction #65\n",
      "Transaction #66\n",
      "Transaction #67\n",
      "Transaction #68\n",
      "Transaction #69\n",
      "Transaction #70\n",
      "Transaction #71\n",
      "Transaction #72\n",
      "Transaction #73\n",
      "Transaction #74\n",
      "Transaction #75\n",
      "Transaction #76\n",
      "Transaction #77\n",
      "Transaction #78\n",
      "Transaction #79\n",
      "Transaction #80\n",
      "Transaction #81\n",
      "Transaction #82\n",
      "Transaction #83\n",
      "Transaction #84\n",
      "Transaction #85\n",
      "Transaction #86\n",
      "Transaction #87\n",
      "Transaction #88\n",
      "Transaction #89\n",
      "Transaction #90\n",
      "         DATE TRANSACTION_TYPE FINANCIAL_TYPE  \\\n",
      "0  2022-04-01               ei          debet   \n",
      "1  2022-04-01               ei          debet   \n",
      "2  2022-04-01               bc          debet   \n",
      "3  2022-04-01               bc          debet   \n",
      "4  2022-04-01               ei          debet   \n",
      "..        ...              ...            ...   \n",
      "86 2022-05-02               id          debet   \n",
      "87 2022-04-30               bc          debet   \n",
      "88 2022-04-30               bc          debet   \n",
      "89 2022-05-02               id          debet   \n",
      "90 2022-04-30               bg          debet   \n",
      "\n",
      "                                              PARTY  AMOUNT  \n",
      "0                               Basic Fit Nederland   21.66  \n",
      "1                                ZOA Hartelijk dank   10.00  \n",
      "2                     Tango Amersfoort 1 AMERSFOORT   84.40  \n",
      "3                        Hoogvliet 700 5 AMERSFOORT   28.93  \n",
      "4          Nationale-Nederlanden Verzekeren INCASSO   17.27  \n",
      "..                                              ...     ...  \n",
      "86                                      ING Bank NV    5.00  \n",
      "87                       Jumbo Vasthorst AMERSFOORT   30.10  \n",
      "88                    Ranzijn Amersfoort AMERSFOORT   32.95  \n",
      "89      Dominos MCKHTMJ4B22Q4932JG0S 01802120340504   14.45  \n",
      "90  Belastingdienst BETALINGSKENM. 3218041537016001  318.00  \n",
      "\n",
      "[91 rows x 5 columns]\n"
     ]
    }
   ],
   "source": [
    "## transactions with tb can be ignored? tb = eigen rekening => geen uitgaven\n",
    "## ba = betaalautomaat => this time credit, but probably not always\n",
    "\n",
    "dict_trans = {}\n",
    "\n",
    "for no, match in enumerate(matches):\n",
    "    \n",
    "    print(f'Transaction #{no}')\n",
    "\n",
    "    date = datetime(2022, int(match[3:5]), int(match[:2]))\n",
    "    trans_type = match[6:8]\n",
    "    \n",
    "    if trans_type in ['ei', 'id', 'cb', 'sb', 'bg', 'tb']:\n",
    "        amount, incassant = get_info_iban(match)\n",
    "    elif trans_type in ['bc', 'db', 'cc', 'ba']:\n",
    "        amount, incassant = get_info_bc(match)\n",
    "    else:\n",
    "        raise ValueError(f'Unknown transaction type={trans_type}')\n",
    "        \n",
    "    if trans_type in ['cb', 'sb', 'tb', 'ba']:\n",
    "        fin_type = 'credit'\n",
    "    else:\n",
    "        fin_type = 'debet'\n",
    "        \n",
    "    try:\n",
    "        amount_f = float(amount.replace('.', '').replace(',', '.'))\n",
    "    except:\n",
    "        raise ValueError(f'Unable to convert to float={amount}')\n",
    "        \n",
    "    dict_trans[no] = {\n",
    "        'DATE': date, 'TRANSACTION_TYPE': trans_type, 'FINANCIAL_TYPE': fin_type, 'PARTY': incassant, 'AMOUNT': amount_f\n",
    "    }\n",
    "    \n",
    "df = pd.DataFrame.from_dict(dict_trans, orient='index')\n",
    "\n",
    "print(df)"
   ]
  },
  {
   "cell_type": "code",
   "execution_count": 193,
   "id": "838bffb3",
   "metadata": {},
   "outputs": [
    {
     "data": {
      "text/plain": [
       "FINANCIAL_TYPE\n",
       "credit     9140.62\n",
       "debet     15438.89\n",
       "Name: AMOUNT, dtype: float64"
      ]
     },
     "execution_count": 193,
     "metadata": {},
     "output_type": "execute_result"
    }
   ],
   "source": [
    "df.groupby('FINANCIAL_TYPE')['AMOUNT'].sum()"
   ]
  },
  {
   "cell_type": "code",
   "execution_count": 194,
   "id": "982e933d",
   "metadata": {},
   "outputs": [
    {
     "data": {
      "text/plain": [
       "{'Beginsaldo': 11997.2,\n",
       " 'Eindsaldo': 5698.93,\n",
       " 'Totaal afgeschreven': 15438.89,\n",
       " 'Totaal bijgeschreven': 9140.62}"
      ]
     },
     "execution_count": 194,
     "metadata": {},
     "output_type": "execute_result"
    }
   ],
   "source": [
    "dict_account"
   ]
  },
  {
   "cell_type": "code",
   "execution_count": 184,
   "id": "25b92a1e",
   "metadata": {},
   "outputs": [],
   "source": [
    "df.to_excel(r'C:\\Users\\robsc\\Documents\\Python\\Huishoudboekje\\data\\Rabobank\\output_april.xlsx')"
   ]
  },
  {
   "cell_type": "code",
   "execution_count": 111,
   "id": "5e9c4862",
   "metadata": {},
   "outputs": [
    {
     "name": "stdout",
     "output_type": "stream",
     "text": [
      "IBAN found\n",
      "01-04\n",
      "ei\n",
      "21,66\n",
      "Basic Fit\n"
     ]
    }
   ],
   "source": [
    "## ei => IBAN\n",
    "\n",
    "match = matches[0]\n",
    "\n",
    "date = match[:5]\n",
    "trans_type = match[6:8]\n",
    "\n",
    "if re.search('NL[0-9][0-9] [A-Z][A-Z][A-Z][A-Z] [0-9][0-9][0-9][0-9] [0-9][0-9][0-9][0-9] [0-9][0-9]', match):\n",
    "    print('IBAN found')\n",
    "    \n",
    "    amount = match.split()[7]\n",
    "    \n",
    "    incassant = ' '.join(match.split()[8:10])\n",
    "print(date)\n",
    "print(trans_type)\n",
    "print(amount)\n",
    "print(incassant)"
   ]
  },
  {
   "cell_type": "code",
   "execution_count": 113,
   "id": "5610d8a0",
   "metadata": {},
   "outputs": [
    {
     "name": "stdout",
     "output_type": "stream",
     "text": [
      "IBAN found\n",
      "01-04\n",
      "ei\n",
      "10,00\n",
      "ZOA\n"
     ]
    }
   ],
   "source": [
    "## ei => IBAN\n",
    "\n",
    "match = matches[1]\n",
    "\n",
    "date = match[:5]\n",
    "trans_type = match[6:8]\n",
    "\n",
    "if re.search('NL[0-9][0-9] [A-Z][A-Z][A-Z][A-Z] [0-9][0-9][0-9][0-9] [0-9][0-9][0-9][0-9] [0-9][0-9]', match):\n",
    "    print('IBAN found')\n",
    "    \n",
    "    amount = match.split()[7]\n",
    "    \n",
    "    incassant = match.split()[8]\n",
    "print(date)\n",
    "print(trans_type)\n",
    "print(amount)\n",
    "print(incassant)"
   ]
  },
  {
   "cell_type": "code",
   "execution_count": 130,
   "id": "e9ecc016",
   "metadata": {},
   "outputs": [
    {
     "name": "stdout",
     "output_type": "stream",
     "text": [
      "01-04\n",
      "bc\n",
      "84,40\n",
      "Tango Amersfoort 1 AMERSFOORT\n"
     ]
    }
   ],
   "source": [
    "## transaction type is bc\n",
    "\n",
    "match = matches[2]\n",
    "\n",
    "date = match[:5]\n",
    "trans_type = match[6:8]\n",
    "\n",
    "re_amount = re.search('([^\\s]*?),[0-9][0-9]', match)\n",
    "\n",
    "amount = re_amount.group(0)\n",
    "\n",
    "incassant = match[9:(re_amount.span(0)[0]-1)] # first word would be sufficient\n",
    "\n",
    "print(date)\n",
    "print(trans_type)\n",
    "print(amount)\n",
    "print(incassant)"
   ]
  },
  {
   "cell_type": "code",
   "execution_count": 134,
   "id": "85d8e164",
   "metadata": {},
   "outputs": [
    {
     "name": "stdout",
     "output_type": "stream",
     "text": [
      "01-04\n",
      "bc\n",
      "28,93\n",
      "Hoogvliet 700 5 AMERSFOORT\n"
     ]
    }
   ],
   "source": [
    "## transaction type is bc\n",
    "\n",
    "match = matches[3]\n",
    "\n",
    "date = match[:5]\n",
    "trans_type = match[6:8]\n",
    "\n",
    "re_amount = re.search('([^\\s]*?),[0-9][0-9]', match)\n",
    "\n",
    "amount = re_amount.group(0)\n",
    "\n",
    "incassant = match[9:(re_amount.span(0)[0]-1)] # first word would be sufficient\n",
    "\n",
    "print(date)\n",
    "print(trans_type)\n",
    "print(amount)\n",
    "print(incassant)"
   ]
  },
  {
   "cell_type": "code",
   "execution_count": 136,
   "id": "c90a4a5c",
   "metadata": {},
   "outputs": [
    {
     "name": "stdout",
     "output_type": "stream",
     "text": [
      "IBAN found\n",
      "01-04\n",
      "ei\n",
      "17,27\n",
      "Nationale-Nederlanden\n"
     ]
    }
   ],
   "source": [
    "## transaction type is ei\n",
    "\n",
    "match = matches[4]\n",
    "\n",
    "date = match[:5]\n",
    "trans_type = match[6:8]\n",
    "\n",
    "if re.search('[A-Z][A-Z][0-9][0-9] [0-9][0-9][0-9][0-9] [0-9][0-9][0-9][0-9] [0-9][0-9][0-9][0-9] [0-9][0-9][0-9][0-9] [0-9][0-9]', match):\n",
    "    \n",
    "    amount = match.split()[8]\n",
    "    \n",
    "    incassant = ' '.join(match.split()[9:12])\n",
    "\n",
    "if re.search('NL[0-9][0-9] [A-Z][A-Z][A-Z][A-Z] [0-9][0-9][0-9][0-9] [0-9][0-9][0-9][0-9] [0-9][0-9]', match):\n",
    "    print('IBAN found')\n",
    "    \n",
    "    amount = match.split()[7]\n",
    "    \n",
    "    incassant = ' '.join(match.split()[8:11])\n",
    "print(date)\n",
    "print(trans_type)\n",
    "print(amount)\n",
    "print(incassant)"
   ]
  },
  {
   "cell_type": "code",
   "execution_count": 156,
   "id": "8643fdc9",
   "metadata": {},
   "outputs": [],
   "source": [
    "start = re.search('NL[0-9][0-9] [A-Z][A-Z][A-Z][A-Z] [0-9][0-9][0-9][0-9] [0-9][0-9][0-9][0-9] [0-9][0-9]', matches[8])\n",
    "end = re.search('([^\\s]*?),[0-9][0-9]', matches[8])"
   ]
  },
  {
   "cell_type": "code",
   "execution_count": 159,
   "id": "b4cbfc60",
   "metadata": {},
   "outputs": [
    {
     "data": {
      "text/plain": [
       "'04-04 sb NL97 INGB 0000 1138 98 57,00 Centrale Salarisadministratie Personeelsnummer: 2635173 Declarati e Transactiereferentie: 2635173-20220403-22012 '"
      ]
     },
     "execution_count": 159,
     "metadata": {},
     "output_type": "execute_result"
    }
   ],
   "source": [
    "matches[16]"
   ]
  },
  {
   "cell_type": "code",
   "execution_count": 197,
   "id": "b4433019",
   "metadata": {},
   "outputs": [],
   "source": [
    "from os import walk"
   ]
  },
  {
   "cell_type": "code",
   "execution_count": 201,
   "id": "92aeda0d",
   "metadata": {},
   "outputs": [],
   "source": [
    "filenames = next(walk(project_path + '/data/Rabobank'), (None, None, []))[2]"
   ]
  },
  {
   "cell_type": "code",
   "execution_count": 202,
   "id": "d82cacd7",
   "metadata": {},
   "outputs": [
    {
     "data": {
      "text/plain": [
       "['NL45RABO0372430163-EUR-2022-04.pdf']"
      ]
     },
     "execution_count": 202,
     "metadata": {},
     "output_type": "execute_result"
    }
   ],
   "source": [
    "filenames"
   ]
  }
 ],
 "metadata": {
  "kernelspec": {
   "display_name": "Python (huishoudboekje)",
   "language": "python",
   "name": "huishoudboekje"
  },
  "language_info": {
   "codemirror_mode": {
    "name": "ipython",
    "version": 3
   },
   "file_extension": ".py",
   "mimetype": "text/x-python",
   "name": "python",
   "nbconvert_exporter": "python",
   "pygments_lexer": "ipython3",
   "version": "3.8.8"
  }
 },
 "nbformat": 4,
 "nbformat_minor": 5
}
